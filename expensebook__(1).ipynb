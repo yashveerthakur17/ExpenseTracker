{
  "nbformat": 4,
  "nbformat_minor": 0,
  "metadata": {
    "colab": {
      "provenance": []
    },
    "kernelspec": {
      "name": "python3",
      "display_name": "Python 3"
    },
    "language_info": {
      "name": "python"
    }
  },
  "cells": [
    {
      "cell_type": "code",
      "execution_count": null,
      "metadata": {
        "id": "HJXku_BzOJqu"
      },
      "outputs": [],
      "source": [
        "from pymongo import MongoClient\n",
        "import bcrypt\n",
        "\n",
        "'''connecting with remote client(here atlas), or local host'''\n",
        "\n",
        "client = MongoClient('enter your link to connect')\n",
        "db = client['finance_tracker']\n",
        "\n",
        "#funtion to register user and check if it already exists\n",
        "#password is saved with encryption using bcrypt\n",
        "\n",
        "def register_user(username, password):\n",
        "    users = db['users']\n",
        "    if users.find_one({'username': username}):\n",
        "        return \"Username already exists.\"\n",
        "    hashed_pw = bcrypt.hashpw(password.encode('utf-8'), bcrypt.gensalt())\n",
        "    users.insert_one({'username': username, 'password': hashed_pw})\n",
        "    return \"User registered successfully.\"\n",
        "\n",
        "#funtion to authenticate user, and allow access\n",
        "\n",
        "def authenticate_user(username, password):\n",
        "    users = db['users']\n",
        "    user = users.find_one({'username': username})\n",
        "    if user and bcrypt.checkpw(password.encode('utf-8'), user['password']):\n",
        "        return True\n",
        "    return False\n"
      ]
    },
    {
      "cell_type": "code",
      "source": [
        "import datetime\n",
        "\n",
        "#Funtion to add transcations with parameters\n",
        "\n",
        "def add_transaction(username, type, category, amount):\n",
        "    transactions = db['transactions']\n",
        "    transaction = {\n",
        "        'username': username,\n",
        "        'type': type,\n",
        "        'category': category,\n",
        "        'amount': amount,\n",
        "        'date': datetime.datetime.now()\n",
        "    }\n",
        "    transactions.insert_one(transaction)\n",
        "    return \"Transaction added successfully.\"\n",
        "\n",
        "\n",
        "#Function to view transactions\n",
        "\n",
        "\n",
        "def view_transactions(username):\n",
        "    transactions = db['transactions']\n",
        "    return list(transactions.find({'username': username}))\n"
      ],
      "metadata": {
        "id": "zTNcOynZOQjT"
      },
      "execution_count": null,
      "outputs": []
    },
    {
      "cell_type": "code",
      "source": [
        "#generating summary\n",
        "#use of data agregation pipeline in MongoDB\n",
        "\n",
        "\n",
        "def generate_summary(username, period='monthly'):\n",
        "    transactions = db['transactions']\n",
        "    pipeline = [\n",
        "        {'$match': {'username': username}},\n",
        "        {'$group': {\n",
        "            '_id': {\n",
        "                'year': {'$year': '$date'},\n",
        "                'month': {'$month': '$date'} if period == 'monthly' else None,\n",
        "                'category': '$category'\n",
        "            },\n",
        "            'total': {'$sum': '$amount'}\n",
        "        }}\n",
        "    ]\n",
        "    return list(transactions.aggregate(pipeline))\n"
      ],
      "metadata": {
        "id": "HOJ5EzduO3wb"
      },
      "execution_count": null,
      "outputs": []
    },
    {
      "cell_type": "code",
      "source": [
        "#basic visualization\n",
        "\n",
        "import matplotlib.pyplot as plt\n",
        "\n",
        "def visualize_summary(username, period='monthly'):\n",
        "    summary = generate_summary(username, period)\n",
        "\n",
        "    labels = [f\"{item['_id']['category']} ({item['_id']['month']}/{item['_id']['year']})\" for item in summary]\n",
        "    sizes = [item['total'] for item in summary]\n",
        "\n",
        "    plt.pie(sizes, labels=labels, autopct='%1.1f%%', startangle=140)\n",
        "    plt.axis('equal')\n",
        "    plt.show()\n"
      ],
      "metadata": {
        "id": "9-_F22weQHSn"
      },
      "execution_count": null,
      "outputs": []
    },
    {
      "cell_type": "code",
      "source": [
        "#Test case\n",
        "\n",
        "\n",
        "\n",
        "\n",
        "print(register_user('john_doe', 'password123'))\n"
      ],
      "metadata": {
        "colab": {
          "base_uri": "https://localhost:8080/"
        },
        "id": "PeggSbDgQO3T",
        "outputId": "a6364277-adfd-4d66-e641-137fbd1fdbbb"
      },
      "execution_count": null,
      "outputs": [
        {
          "output_type": "stream",
          "name": "stdout",
          "text": [
            "Username already exists.\n"
          ]
        }
      ]
    },
    {
      "cell_type": "code",
      "source": [
        "print(register_user('john_doe', 'password123'))"
      ],
      "metadata": {
        "colab": {
          "base_uri": "https://localhost:8080/"
        },
        "id": "Vx2kqPLZQYup",
        "outputId": "e401f888-c460-47a0-c593-7e68ce6f5c9a"
      },
      "execution_count": null,
      "outputs": [
        {
          "output_type": "stream",
          "name": "stdout",
          "text": [
            "Username already exists.\n"
          ]
        }
      ]
    },
    {
      "cell_type": "code",
      "source": [
        "print(authenticate_user('john_doe', 'password12'))"
      ],
      "metadata": {
        "colab": {
          "base_uri": "https://localhost:8080/"
        },
        "id": "cRSq0bEAQalh",
        "outputId": "38b00403-fb32-436a-9a10-a4582aa7dcc0"
      },
      "execution_count": null,
      "outputs": [
        {
          "output_type": "stream",
          "name": "stdout",
          "text": [
            "False\n"
          ]
        }
      ]
    },
    {
      "cell_type": "code",
      "source": [
        "print(authenticate_user('john_doe', 'password123'))"
      ],
      "metadata": {
        "colab": {
          "base_uri": "https://localhost:8080/"
        },
        "id": "VSumVl09QeoU",
        "outputId": "42afdb9f-9094-459f-9f58-80da0663a6c8"
      },
      "execution_count": null,
      "outputs": [
        {
          "output_type": "stream",
          "name": "stdout",
          "text": [
            "True\n"
          ]
        }
      ]
    },
    {
      "cell_type": "code",
      "source": [
        "add_transaction('john_doe', 'expense', 'food', 50)\n",
        "add_transaction('john_doe', 'income', 'salary', 1000)"
      ],
      "metadata": {
        "colab": {
          "base_uri": "https://localhost:8080/",
          "height": 36
        },
        "id": "Ntaqahw9QgqV",
        "outputId": "782eaf17-631b-4ce1-a6b6-4389600b5bc6"
      },
      "execution_count": null,
      "outputs": [
        {
          "output_type": "execute_result",
          "data": {
            "text/plain": [
              "'Transaction added successfully.'"
            ],
            "application/vnd.google.colaboratory.intrinsic+json": {
              "type": "string"
            }
          },
          "metadata": {},
          "execution_count": 29
        }
      ]
    },
    {
      "cell_type": "code",
      "source": [
        "transactions = view_transactions('john_doe')\n",
        "print(transactions)"
      ],
      "metadata": {
        "colab": {
          "base_uri": "https://localhost:8080/"
        },
        "id": "Vz8cAnMzQlJD",
        "outputId": "1dd2e503-3f00-4058-f2c7-0e0dc64791dd"
      },
      "execution_count": null,
      "outputs": [
        {
          "output_type": "stream",
          "name": "stdout",
          "text": [
            "[{'_id': ObjectId('6675d38a0ce644166f93d288'), 'username': 'john_doe', 'type': 'expense', 'category': 'food', 'amount': 50, 'date': datetime.datetime(2024, 6, 21, 19, 24, 58, 66000)}, {'_id': ObjectId('6675d38a0ce644166f93d289'), 'username': 'john_doe', 'type': 'income', 'category': 'salary', 'amount': 1000, 'date': datetime.datetime(2024, 6, 21, 19, 24, 58, 317000)}, {'_id': ObjectId('6675d6a50ce644166f93d28b'), 'username': 'john_doe', 'type': 'expense', 'category': 'food', 'amount': 50, 'date': datetime.datetime(2024, 6, 21, 19, 38, 13, 356000)}, {'_id': ObjectId('6675d6a50ce644166f93d28c'), 'username': 'john_doe', 'type': 'income', 'category': 'salary', 'amount': 1000, 'date': datetime.datetime(2024, 6, 21, 19, 38, 13, 588000)}]\n"
          ]
        }
      ]
    },
    {
      "cell_type": "code",
      "source": [
        "summary = generate_summary('john_doe')\n",
        "print(summary)\n",
        "visualize_summary('john_doe')"
      ],
      "metadata": {
        "colab": {
          "base_uri": "https://localhost:8080/",
          "height": 424
        },
        "id": "Mixh-FDIQ6xU",
        "outputId": "73bb811f-ea9a-48aa-f060-b98604bc689d"
      },
      "execution_count": null,
      "outputs": [
        {
          "output_type": "stream",
          "name": "stdout",
          "text": [
            "[{'_id': {'year': 2024, 'month': 6, 'category': 'food'}, 'total': 100}, {'_id': {'year': 2024, 'month': 6, 'category': 'salary'}, 'total': 2000}]\n"
          ]
        },
        {
          "output_type": "display_data",
          "data": {
            "text/plain": [
              "<Figure size 640x480 with 1 Axes>"
            ],
            "image/png": "[encoded data removed]"
          },
          "metadata": {}
        }
      ]
    },
    {
      "cell_type": "code",
      "source": [
        "print(register_user('john', 'password123'))\n"
      ],
      "metadata": {
        "colab": {
          "base_uri": "https://localhost:8080/"
        },
        "id": "b0K3cyTRRBeE",
        "outputId": "778ed089-23aa-48ed-c5e9-cd285b420800"
      },
      "execution_count": null,
      "outputs": [
        {
          "output_type": "stream",
          "name": "stdout",
          "text": [
            "User registered successfully.\n"
          ]
        }
      ]
    },
    {
      "cell_type": "code",
      "source": [
        "print(register_user('john', 'password123'))\n"
      ],
      "metadata": {
        "colab": {
          "base_uri": "https://localhost:8080/"
        },
        "id": "73O9w_RvW7a_",
        "outputId": "85a13e23-1fa9-46aa-fccd-1da8bbdc83ba"
      },
      "execution_count": null,
      "outputs": [
        {
          "output_type": "stream",
          "name": "stdout",
          "text": [
            "Username already exists.\n"
          ]
        }
      ]
    },
    {
      "cell_type": "code",
      "source": [
        "print(authenticate_user('john', 'password123'))\n"
      ],
      "metadata": {
        "colab": {
          "base_uri": "https://localhost:8080/"
        },
        "id": "EquN-8QkW-ZF",
        "outputId": "be4f2e0e-118d-4a5c-cb49-f6f224cc27a4"
      },
      "execution_count": null,
      "outputs": [
        {
          "output_type": "stream",
          "name": "stdout",
          "text": [
            "True\n"
          ]
        }
      ]
    },
    {
      "cell_type": "code",
      "source": [
        "print(authenticate_user('john', 'password13'))\n"
      ],
      "metadata": {
        "colab": {
          "base_uri": "https://localhost:8080/"
        },
        "id": "bIwkaSYmXBen",
        "outputId": "05dc0fab-2431-4aa6-a71a-92812b7c63a6"
      },
      "execution_count": null,
      "outputs": [
        {
          "output_type": "stream",
          "name": "stdout",
          "text": [
            "False\n"
          ]
        }
      ]
    },
    {
      "cell_type": "code",
      "source": [
        "add_transaction('john', 'income', 'salary', 10000)\n",
        "\n",
        "add_transaction('john', 'expense', 'food', 500)\n",
        "add_transaction('john', 'expense', 'food', 50)\n",
        "add_transaction('john', 'expense', 'entertainment', 200)\n",
        "add_transaction('john', 'expense', 'rent', 5000)\n",
        "add_transaction('john', 'expense', 'medical', 1000)\n",
        "add_transaction('john', 'expense', 'travel', 200)\n"
      ],
      "metadata": {
        "colab": {
          "base_uri": "https://localhost:8080/",
          "height": 36
        },
        "id": "zZw6uII-XDnK",
        "outputId": "3c6be683-7305-4db2-a52b-3d019a460493"
      },
      "execution_count": null,
      "outputs": [
        {
          "output_type": "execute_result",
          "data": {
            "text/plain": [
              "'Transaction added successfully.'"
            ],
            "application/vnd.google.colaboratory.intrinsic+json": {
              "type": "string"
            }
          },
          "metadata": {},
          "execution_count": 36
        }
      ]
    },
    {
      "cell_type": "code",
      "source": [
        "summary = generate_summary('john')\n",
        "print(summary)\n",
        "visualize_summary('john')"
      ],
      "metadata": {
        "colab": {
          "base_uri": "https://localhost:8080/",
          "height": 448
        },
        "id": "yjAtjKx8XH9D",
        "outputId": "edc1c721-ca1f-4d54-deca-1504494424fb"
      },
      "execution_count": null,
      "outputs": [
        {
          "output_type": "stream",
          "name": "stdout",
          "text": [
            "[{'_id': {'year': 2024, 'month': 6, 'category': 'entertainment'}, 'total': 200}, {'_id': {'year': 2024, 'month': 6, 'category': 'food'}, 'total': 550}, {'_id': {'year': 2024, 'month': 6, 'category': 'rent'}, 'total': 5000}, {'_id': {'year': 2024, 'month': 6, 'category': 'travel'}, 'total': 200}, {'_id': {'year': 2024, 'month': 6, 'category': 'salary'}, 'total': 10000}, {'_id': {'year': 2024, 'month': 6, 'category': 'medical'}, 'total': 1000}]\n"
          ]
        },
        {
          "output_type": "display_data",
          "data": {
            "text/plain": [
              "<Figure size 640x480 with 1 Axes>"
            ],
            "image/png": "[encoded data removed]"
          },
          "metadata": {}
        }
      ]
    },
    {
      "cell_type": "code",
      "source": [],
      "metadata": {
        "id": "fh62aCQLXLl2"
      },
      "execution_count": null,
      "outputs": []
    }
  ]
}